{
 "cells": [
  {
   "cell_type": "code",
   "execution_count": 24,
   "id": "13fd7bf5",
   "metadata": {},
   "outputs": [],
   "source": [
    "import pandas as pd\n",
    "import numpy as np\n",
    "import seaborn as sns\n",
    "\n",
    "%matplotlib inline\n",
    "import matplotlib.pyplot as plt\n",
    "\n",
    "from sklearn.feature_selection import SelectKBest, chi2\n",
    "\n",
    "from sklearn import model_selection\n",
    "from sklearn.model_selection import train_test_split, GridSearchCV, RandomizedSearchCV\n",
    "from sklearn.model_selection import cross_val_predict, cross_val_score\n",
    "\n",
    "from sklearn.preprocessing import StandardScaler\n",
    "\n",
    "from sklearn.tree import DecisionTreeClassifier\n",
    "\n",
    "from sklearn import metrics\n",
    "from sklearn.metrics import classification_report, confusion_matrix, recall_score\n",
    " \n",
    "from scipy.stats import randint\n",
    "\n",
    "from imblearn.under_sampling import RandomUnderSampler"
   ]
  },
  {
   "cell_type": "code",
   "execution_count": 25,
   "id": "008d0bf3",
   "metadata": {},
   "outputs": [
    {
     "data": {
      "text/html": [
       "<div>\n",
       "<style scoped>\n",
       "    .dataframe tbody tr th:only-of-type {\n",
       "        vertical-align: middle;\n",
       "    }\n",
       "\n",
       "    .dataframe tbody tr th {\n",
       "        vertical-align: top;\n",
       "    }\n",
       "\n",
       "    .dataframe thead th {\n",
       "        text-align: right;\n",
       "    }\n",
       "</style>\n",
       "<table border=\"1\" class=\"dataframe\">\n",
       "  <thead>\n",
       "    <tr style=\"text-align: right;\">\n",
       "      <th></th>\n",
       "      <th>HeartDisease</th>\n",
       "      <th>BMI</th>\n",
       "      <th>Smoking</th>\n",
       "      <th>AlcoholDrinking</th>\n",
       "      <th>Stroke</th>\n",
       "      <th>PhysicalHealth</th>\n",
       "      <th>MentalHealth</th>\n",
       "      <th>DiffWalking</th>\n",
       "      <th>Sex</th>\n",
       "      <th>AgeCategory</th>\n",
       "      <th>Race</th>\n",
       "      <th>Diabetic</th>\n",
       "      <th>PhysicalActivity</th>\n",
       "      <th>GenHealth</th>\n",
       "      <th>SleepTime</th>\n",
       "      <th>Asthma</th>\n",
       "      <th>KidneyDisease</th>\n",
       "      <th>SkinCancer</th>\n",
       "    </tr>\n",
       "  </thead>\n",
       "  <tbody>\n",
       "    <tr>\n",
       "      <th>0</th>\n",
       "      <td>0</td>\n",
       "      <td>16.60</td>\n",
       "      <td>1</td>\n",
       "      <td>0</td>\n",
       "      <td>0</td>\n",
       "      <td>3.0</td>\n",
       "      <td>30.0</td>\n",
       "      <td>0</td>\n",
       "      <td>0</td>\n",
       "      <td>8</td>\n",
       "      <td>5</td>\n",
       "      <td>1</td>\n",
       "      <td>1</td>\n",
       "      <td>4</td>\n",
       "      <td>5.0</td>\n",
       "      <td>1</td>\n",
       "      <td>0</td>\n",
       "      <td>1</td>\n",
       "    </tr>\n",
       "    <tr>\n",
       "      <th>1</th>\n",
       "      <td>0</td>\n",
       "      <td>20.34</td>\n",
       "      <td>0</td>\n",
       "      <td>0</td>\n",
       "      <td>1</td>\n",
       "      <td>0.0</td>\n",
       "      <td>0.0</td>\n",
       "      <td>0</td>\n",
       "      <td>0</td>\n",
       "      <td>13</td>\n",
       "      <td>5</td>\n",
       "      <td>2</td>\n",
       "      <td>1</td>\n",
       "      <td>4</td>\n",
       "      <td>7.0</td>\n",
       "      <td>0</td>\n",
       "      <td>0</td>\n",
       "      <td>0</td>\n",
       "    </tr>\n",
       "    <tr>\n",
       "      <th>2</th>\n",
       "      <td>0</td>\n",
       "      <td>26.58</td>\n",
       "      <td>1</td>\n",
       "      <td>0</td>\n",
       "      <td>0</td>\n",
       "      <td>20.0</td>\n",
       "      <td>30.0</td>\n",
       "      <td>0</td>\n",
       "      <td>1</td>\n",
       "      <td>10</td>\n",
       "      <td>5</td>\n",
       "      <td>1</td>\n",
       "      <td>1</td>\n",
       "      <td>2</td>\n",
       "      <td>8.0</td>\n",
       "      <td>1</td>\n",
       "      <td>0</td>\n",
       "      <td>0</td>\n",
       "    </tr>\n",
       "    <tr>\n",
       "      <th>3</th>\n",
       "      <td>0</td>\n",
       "      <td>24.21</td>\n",
       "      <td>0</td>\n",
       "      <td>0</td>\n",
       "      <td>0</td>\n",
       "      <td>0.0</td>\n",
       "      <td>0.0</td>\n",
       "      <td>0</td>\n",
       "      <td>0</td>\n",
       "      <td>12</td>\n",
       "      <td>5</td>\n",
       "      <td>2</td>\n",
       "      <td>0</td>\n",
       "      <td>3</td>\n",
       "      <td>6.0</td>\n",
       "      <td>0</td>\n",
       "      <td>0</td>\n",
       "      <td>1</td>\n",
       "    </tr>\n",
       "    <tr>\n",
       "      <th>4</th>\n",
       "      <td>0</td>\n",
       "      <td>23.71</td>\n",
       "      <td>0</td>\n",
       "      <td>0</td>\n",
       "      <td>0</td>\n",
       "      <td>28.0</td>\n",
       "      <td>0.0</td>\n",
       "      <td>1</td>\n",
       "      <td>0</td>\n",
       "      <td>5</td>\n",
       "      <td>5</td>\n",
       "      <td>2</td>\n",
       "      <td>1</td>\n",
       "      <td>4</td>\n",
       "      <td>8.0</td>\n",
       "      <td>0</td>\n",
       "      <td>0</td>\n",
       "      <td>0</td>\n",
       "    </tr>\n",
       "    <tr>\n",
       "      <th>5</th>\n",
       "      <td>1</td>\n",
       "      <td>28.87</td>\n",
       "      <td>1</td>\n",
       "      <td>0</td>\n",
       "      <td>0</td>\n",
       "      <td>6.0</td>\n",
       "      <td>0.0</td>\n",
       "      <td>1</td>\n",
       "      <td>0</td>\n",
       "      <td>12</td>\n",
       "      <td>3</td>\n",
       "      <td>2</td>\n",
       "      <td>0</td>\n",
       "      <td>2</td>\n",
       "      <td>12.0</td>\n",
       "      <td>0</td>\n",
       "      <td>0</td>\n",
       "      <td>0</td>\n",
       "    </tr>\n",
       "    <tr>\n",
       "      <th>6</th>\n",
       "      <td>0</td>\n",
       "      <td>21.63</td>\n",
       "      <td>0</td>\n",
       "      <td>0</td>\n",
       "      <td>0</td>\n",
       "      <td>15.0</td>\n",
       "      <td>0.0</td>\n",
       "      <td>0</td>\n",
       "      <td>0</td>\n",
       "      <td>11</td>\n",
       "      <td>5</td>\n",
       "      <td>2</td>\n",
       "      <td>1</td>\n",
       "      <td>2</td>\n",
       "      <td>4.0</td>\n",
       "      <td>1</td>\n",
       "      <td>0</td>\n",
       "      <td>1</td>\n",
       "    </tr>\n",
       "    <tr>\n",
       "      <th>7</th>\n",
       "      <td>0</td>\n",
       "      <td>31.64</td>\n",
       "      <td>1</td>\n",
       "      <td>0</td>\n",
       "      <td>0</td>\n",
       "      <td>5.0</td>\n",
       "      <td>0.0</td>\n",
       "      <td>1</td>\n",
       "      <td>0</td>\n",
       "      <td>13</td>\n",
       "      <td>5</td>\n",
       "      <td>1</td>\n",
       "      <td>0</td>\n",
       "      <td>3</td>\n",
       "      <td>9.0</td>\n",
       "      <td>1</td>\n",
       "      <td>0</td>\n",
       "      <td>0</td>\n",
       "    </tr>\n",
       "    <tr>\n",
       "      <th>8</th>\n",
       "      <td>0</td>\n",
       "      <td>26.45</td>\n",
       "      <td>0</td>\n",
       "      <td>0</td>\n",
       "      <td>0</td>\n",
       "      <td>0.0</td>\n",
       "      <td>0.0</td>\n",
       "      <td>0</td>\n",
       "      <td>0</td>\n",
       "      <td>13</td>\n",
       "      <td>5</td>\n",
       "      <td>3</td>\n",
       "      <td>0</td>\n",
       "      <td>2</td>\n",
       "      <td>5.0</td>\n",
       "      <td>0</td>\n",
       "      <td>1</td>\n",
       "      <td>0</td>\n",
       "    </tr>\n",
       "    <tr>\n",
       "      <th>9</th>\n",
       "      <td>0</td>\n",
       "      <td>40.69</td>\n",
       "      <td>0</td>\n",
       "      <td>0</td>\n",
       "      <td>0</td>\n",
       "      <td>0.0</td>\n",
       "      <td>0.0</td>\n",
       "      <td>1</td>\n",
       "      <td>1</td>\n",
       "      <td>10</td>\n",
       "      <td>5</td>\n",
       "      <td>2</td>\n",
       "      <td>1</td>\n",
       "      <td>3</td>\n",
       "      <td>10.0</td>\n",
       "      <td>0</td>\n",
       "      <td>0</td>\n",
       "      <td>0</td>\n",
       "    </tr>\n",
       "  </tbody>\n",
       "</table>\n",
       "</div>"
      ],
      "text/plain": [
       "   HeartDisease    BMI  Smoking  AlcoholDrinking  Stroke  PhysicalHealth  \\\n",
       "0             0  16.60        1                0       0             3.0   \n",
       "1             0  20.34        0                0       1             0.0   \n",
       "2             0  26.58        1                0       0            20.0   \n",
       "3             0  24.21        0                0       0             0.0   \n",
       "4             0  23.71        0                0       0            28.0   \n",
       "5             1  28.87        1                0       0             6.0   \n",
       "6             0  21.63        0                0       0            15.0   \n",
       "7             0  31.64        1                0       0             5.0   \n",
       "8             0  26.45        0                0       0             0.0   \n",
       "9             0  40.69        0                0       0             0.0   \n",
       "\n",
       "   MentalHealth  DiffWalking  Sex  AgeCategory  Race  Diabetic  \\\n",
       "0          30.0            0    0            8     5         1   \n",
       "1           0.0            0    0           13     5         2   \n",
       "2          30.0            0    1           10     5         1   \n",
       "3           0.0            0    0           12     5         2   \n",
       "4           0.0            1    0            5     5         2   \n",
       "5           0.0            1    0           12     3         2   \n",
       "6           0.0            0    0           11     5         2   \n",
       "7           0.0            1    0           13     5         1   \n",
       "8           0.0            0    0           13     5         3   \n",
       "9           0.0            1    1           10     5         2   \n",
       "\n",
       "   PhysicalActivity  GenHealth  SleepTime  Asthma  KidneyDisease  SkinCancer  \n",
       "0                 1          4        5.0       1              0           1  \n",
       "1                 1          4        7.0       0              0           0  \n",
       "2                 1          2        8.0       1              0           0  \n",
       "3                 0          3        6.0       0              0           1  \n",
       "4                 1          4        8.0       0              0           0  \n",
       "5                 0          2       12.0       0              0           0  \n",
       "6                 1          2        4.0       1              0           1  \n",
       "7                 0          3        9.0       1              0           0  \n",
       "8                 0          2        5.0       0              1           0  \n",
       "9                 1          3       10.0       0              0           0  "
      ]
     },
     "execution_count": 25,
     "metadata": {},
     "output_type": "execute_result"
    }
   ],
   "source": [
    "df = pd.read_csv('final_output.csv')\n",
    "df.head(10)"
   ]
  },
  {
   "cell_type": "code",
   "execution_count": 26,
   "id": "9885d7f2",
   "metadata": {},
   "outputs": [],
   "source": [
    "X = df.iloc[:, 1:16]\n",
    "y = df.iloc[:, 0]"
   ]
  },
  {
   "cell_type": "code",
   "execution_count": 27,
   "id": "02ad8e9a",
   "metadata": {},
   "outputs": [],
   "source": [
    "#splitting the data\n",
    "X_train, X_test, y_train, y_test = train_test_split(X, y, test_size = 0.4, random_state = 0)"
   ]
  },
  {
   "cell_type": "code",
   "execution_count": 28,
   "id": "777d0479",
   "metadata": {},
   "outputs": [],
   "source": [
    "#scaling the data\n",
    "sc_X = StandardScaler()\n",
    "X_train = sc_X.fit_transform(X_train)\n",
    "X_test = sc_X.transform(X_test)"
   ]
  },
  {
   "cell_type": "code",
   "execution_count": 29,
   "id": "97224344",
   "metadata": {},
   "outputs": [],
   "source": [
    "clf = DecisionTreeClassifier()\n",
    "clf = clf.fit(X_train, y_train)\n",
    "y_pred = clf.predict(X_test)"
   ]
  },
  {
   "cell_type": "code",
   "execution_count": 30,
   "id": "43e2ce15",
   "metadata": {},
   "outputs": [
    {
     "name": "stdout",
     "output_type": "stream",
     "text": [
      "Accuracy:  0.8635610312856674\n",
      "Recall:  0.24615666178623719\n",
      "Precision: 0.2259554808903822\n",
      "CL Report:               precision    recall  f1-score   support\n",
      "\n",
      "           0       0.93      0.92      0.93    116990\n",
      "           1       0.23      0.25      0.24     10928\n",
      "\n",
      "    accuracy                           0.86    127918\n",
      "   macro avg       0.58      0.58      0.58    127918\n",
      "weighted avg       0.87      0.86      0.87    127918\n",
      "\n"
     ]
    }
   ],
   "source": [
    "#accuracy = metrics.accuracy_score(y_test, y_pred)\n",
    "#accuracy\n",
    "\n",
    "print('Accuracy: ', metrics.accuracy_score(y_test, y_pred))\n",
    "print('Recall: ', metrics.recall_score(y_test, y_pred, zero_division = 1))\n",
    "print(\"Precision:\", metrics.precision_score(y_test, y_pred, zero_division = 1))\n",
    "print(\"CL Report:\", metrics.classification_report(y_test, y_pred, zero_division = 1))"
   ]
  },
  {
   "cell_type": "code",
   "execution_count": 31,
   "id": "9d24c868",
   "metadata": {},
   "outputs": [],
   "source": [
    "XX = df[['PhysicalHealth', 'AgeCategory', 'Stroke']]\n",
    "YY = df[['HeartDisease']]\n",
    "\n",
    "X_train, X_test, y_train, y_test = train_test_split(XX, YY, test_size = 0.3, random_state = 0)"
   ]
  },
  {
   "cell_type": "code",
   "execution_count": 32,
   "id": "4341886f",
   "metadata": {},
   "outputs": [],
   "source": [
    "clf = DecisionTreeClassifier()\n",
    "clf = clf.fit(X_train, y_train)\n",
    "y_pred = clf.predict(X_test)"
   ]
  },
  {
   "cell_type": "code",
   "execution_count": 33,
   "id": "568df28f",
   "metadata": {},
   "outputs": [
    {
     "name": "stdout",
     "output_type": "stream",
     "text": [
      "Accuracy:  0.9139453194217159\n",
      "Recall:  0.029845291752954074\n",
      "Precision: 0.45623836126629425\n",
      "CL Report:               precision    recall  f1-score   support\n",
      "\n",
      "           0       0.92      1.00      0.95     87730\n",
      "           1       0.46      0.03      0.06      8209\n",
      "\n",
      "    accuracy                           0.91     95939\n",
      "   macro avg       0.69      0.51      0.51     95939\n",
      "weighted avg       0.88      0.91      0.88     95939\n",
      "\n"
     ]
    }
   ],
   "source": [
    "accuracy = metrics.accuracy_score(y_test, y_pred)\n",
    "accuracy\n",
    "\n",
    "print('Accuracy: ', metrics.accuracy_score(y_test, y_pred))\n",
    "print('Recall: ', metrics.recall_score(y_test, y_pred, zero_division = 1))\n",
    "print(\"Precision:\", metrics.precision_score(y_test, y_pred, zero_division = 1))\n",
    "print(\"CL Report:\", metrics.classification_report(y_test, y_pred, zero_division = 1))"
   ]
  },
  {
   "cell_type": "code",
   "execution_count": 34,
   "id": "c9974682",
   "metadata": {},
   "outputs": [],
   "source": [
    "#confusion matrix\n",
    "#cm = confusion_matrix(y_test, y_pred)\n",
    "#cm"
   ]
  },
  {
   "cell_type": "code",
   "execution_count": 35,
   "id": "93ca9668",
   "metadata": {},
   "outputs": [
    {
     "data": {
      "text/plain": [
       "0    292422\n",
       "1     27373\n",
       "Name: HeartDisease, dtype: int64"
      ]
     },
     "execution_count": 35,
     "metadata": {},
     "output_type": "execute_result"
    }
   ],
   "source": [
    "df['HeartDisease'].value_counts()"
   ]
  },
  {
   "cell_type": "code",
   "execution_count": 36,
   "id": "2b2a2642",
   "metadata": {},
   "outputs": [],
   "source": [
    "#Taking care of imbalance in target variable\n",
    "\n",
    "under_sample = RandomUnderSampler(sampling_strategy = 0.5)\n",
    "X_resampled, y_resampled = under_sample.fit_resample(X_train, y_train)"
   ]
  },
  {
   "cell_type": "code",
   "execution_count": 37,
   "id": "d37edbe8",
   "metadata": {},
   "outputs": [],
   "source": [
    "clf = clf.fit(X_resampled, y_resampled)\n",
    "y_pred = clf.predict(X_test)"
   ]
  },
  {
   "cell_type": "code",
   "execution_count": 38,
   "id": "2bb040a0",
   "metadata": {},
   "outputs": [
    {
     "name": "stdout",
     "output_type": "stream",
     "text": [
      "Accuracy:  0.8272443948759107\n",
      "Recall:  0.483859178949933\n",
      "Precision: 0.24354650806303269\n",
      "CL Report:               precision    recall  f1-score   support\n",
      "\n",
      "           0       0.95      0.86      0.90     87730\n",
      "           1       0.24      0.48      0.32      8209\n",
      "\n",
      "    accuracy                           0.83     95939\n",
      "   macro avg       0.60      0.67      0.61     95939\n",
      "weighted avg       0.89      0.83      0.85     95939\n",
      "\n"
     ]
    }
   ],
   "source": [
    "#accuracy check\n",
    "\n",
    "print('Accuracy: ', metrics.accuracy_score(y_test, y_pred))\n",
    "print('Recall: ', metrics.recall_score(y_test, y_pred, zero_division = 1))\n",
    "print(\"Precision:\", metrics.precision_score(y_test, y_pred, zero_division = 1))\n",
    "print(\"CL Report:\", metrics.classification_report(y_test, y_pred, zero_division = 1))"
   ]
  },
  {
   "cell_type": "code",
   "execution_count": 39,
   "id": "6c7d3768",
   "metadata": {},
   "outputs": [],
   "source": [
    "#Adjusting decision threshold\n",
    "positive_class =clf.predict_proba(X_test)[:, 0]"
   ]
  },
  {
   "cell_type": "code",
   "execution_count": 40,
   "id": "a16c31c7",
   "metadata": {},
   "outputs": [],
   "source": [
    "adjusted_threshold = 0.3"
   ]
  },
  {
   "cell_type": "code",
   "execution_count": 41,
   "id": "7a07d02d",
   "metadata": {},
   "outputs": [],
   "source": [
    "adjusted_preds = (positive_class >= adjusted_threshold).astype(int)"
   ]
  },
  {
   "cell_type": "code",
   "execution_count": 42,
   "id": "ed57b2fe",
   "metadata": {},
   "outputs": [
    {
     "name": "stdout",
     "output_type": "stream",
     "text": [
      "[[ 3055 84675]\n",
      " [ 1605  6604]]\n"
     ]
    }
   ],
   "source": [
    "print(confusion_matrix(y_test, adjusted_preds))"
   ]
  },
  {
   "cell_type": "code",
   "execution_count": 43,
   "id": "d421788b",
   "metadata": {},
   "outputs": [
    {
     "name": "stdout",
     "output_type": "stream",
     "text": [
      "              precision    recall  f1-score   support\n",
      "\n",
      "           0       0.66      0.03      0.07     87730\n",
      "           1       0.07      0.80      0.13      8209\n",
      "\n",
      "    accuracy                           0.10     95939\n",
      "   macro avg       0.36      0.42      0.10     95939\n",
      "weighted avg       0.61      0.10      0.07     95939\n",
      "\n"
     ]
    }
   ],
   "source": [
    "print(classification_report(y_test, adjusted_preds))"
   ]
  },
  {
   "cell_type": "code",
   "execution_count": 44,
   "id": "9948cf62",
   "metadata": {},
   "outputs": [
    {
     "name": "stdout",
     "output_type": "stream",
     "text": [
      "Accuracy:  0.10067855616589708\n",
      "Recall:  0.804482884638811\n",
      "Precision: 0.07234960943919193\n",
      "CL Report:               precision    recall  f1-score   support\n",
      "\n",
      "           0       0.66      0.03      0.07     87730\n",
      "           1       0.07      0.80      0.13      8209\n",
      "\n",
      "    accuracy                           0.10     95939\n",
      "   macro avg       0.36      0.42      0.10     95939\n",
      "weighted avg       0.61      0.10      0.07     95939\n",
      "\n"
     ]
    }
   ],
   "source": [
    "#accuracy check\n",
    "\n",
    "print('Accuracy: ', metrics.accuracy_score(y_test, adjusted_preds))\n",
    "print('Recall: ', metrics.recall_score(y_test, adjusted_preds, zero_division = 1))\n",
    "print(\"Precision:\", metrics.precision_score(y_test, adjusted_preds, zero_division = 1))\n",
    "print(\"CL Report:\", metrics.classification_report(y_test, adjusted_preds, zero_division = 1))"
   ]
  },
  {
   "cell_type": "code",
   "execution_count": 45,
   "id": "fd31f4d8",
   "metadata": {},
   "outputs": [
    {
     "data": {
      "text/plain": [
       "array([[ 3055, 84675],\n",
       "       [ 1605,  6604]], dtype=int64)"
      ]
     },
     "execution_count": 45,
     "metadata": {},
     "output_type": "execute_result"
    }
   ],
   "source": [
    "#confusion matrix\n",
    "cm = confusion_matrix(y_test, adjusted_preds)\n",
    "cm"
   ]
  },
  {
   "cell_type": "code",
   "execution_count": 46,
   "id": "065e222e",
   "metadata": {},
   "outputs": [
    {
     "data": {
      "image/png": "[encoded data removed]",
      "text/plain": [
       "<Figure size 800x600 with 1 Axes>"
      ]
     },
     "metadata": {},
     "output_type": "display_data"
    }
   ],
   "source": [
    "plt.figure(figsize = (8, 6))\n",
    "sns.heatmap(cm, annot = True, fmt = 'd', cmap = 'Reds', cbar = False)\n",
    "plt.xlabel('Predicted')\n",
    "plt.ylabel('True')\n",
    "plt.title('Confusion Matrix')\n",
    "plt.show()"
   ]
  },
  {
   "cell_type": "code",
   "execution_count": 47,
   "id": "59881388",
   "metadata": {
    "scrolled": true
   },
   "outputs": [],
   "source": [
    "predicted_labels = cross_val_predict(clf, X_resampled, y_resampled, cv =5)"
   ]
  },
  {
   "cell_type": "code",
   "execution_count": 48,
   "id": "da03a8a7",
   "metadata": {},
   "outputs": [],
   "source": [
    "cross_val_scores = cross_val_score(clf, X_resampled, y_resampled, cv = 5, scoring = 'recall')"
   ]
  },
  {
   "cell_type": "code",
   "execution_count": 49,
   "id": "4717fcb0",
   "metadata": {
    "scrolled": false
   },
   "outputs": [
    {
     "name": "stdout",
     "output_type": "stream",
     "text": [
      "Confusion Matrix\n",
      "[[32874  5454]\n",
      " [ 9760  9404]]\n",
      "\n",
      "Classification Report:\n",
      "              precision    recall  f1-score   support\n",
      "\n",
      "           0       0.77      0.86      0.81     38328\n",
      "           1       0.63      0.49      0.55     19164\n",
      "\n",
      "    accuracy                           0.74     57492\n",
      "   macro avg       0.70      0.67      0.68     57492\n",
      "weighted avg       0.73      0.74      0.73     57492\n",
      "\n",
      "\n",
      "Cross-Validation Accuracy Scores: [0.50195669 0.47560657 0.50208768 0.48082442 0.49308636]\n"
     ]
    }
   ],
   "source": [
    "print(\"Confusion Matrix\")\n",
    "print(confusion_matrix(y_resampled, predicted_labels))\n",
    "print(\"\\nClassification Report:\")\n",
    "print(classification_report(y_resampled, predicted_labels))\n",
    "print(\"\\nCross-Validation Accuracy Scores:\", cross_val_scores)"
   ]
  },
  {
   "cell_type": "code",
   "execution_count": 50,
   "id": "055dbae5",
   "metadata": {},
   "outputs": [
    {
     "data": {
      "text/plain": [
       "array([[32874,  5454],\n",
       "       [ 9760,  9404]], dtype=int64)"
      ]
     },
     "execution_count": 50,
     "metadata": {},
     "output_type": "execute_result"
    }
   ],
   "source": [
    "conf_matrix = confusion_matrix(y_resampled, predicted_labels)\n",
    "conf_matrix"
   ]
  },
  {
   "cell_type": "code",
   "execution_count": 51,
   "id": "6e0766c6",
   "metadata": {},
   "outputs": [
    {
     "data": {
      "image/png": "[encoded data removed]",
      "text/plain": [
       "<Figure size 800x600 with 1 Axes>"
      ]
     },
     "metadata": {},
     "output_type": "display_data"
    }
   ],
   "source": [
    "plt.figure(figsize = (8, 6))\n",
    "sns.heatmap(conf_matrix, annot = True, fmt = 'd', cmap = 'Reds', cbar = False)\n",
    "plt.xlabel('Predicted')\n",
    "plt.ylabel('True')\n",
    "plt.title('Confusion Matrix')\n",
    "plt.show()"
   ]
  },
  {
   "cell_type": "code",
   "execution_count": 52,
   "id": "81e267d1",
   "metadata": {},
   "outputs": [
    {
     "data": {
      "text/plain": [
       "DecisionTreeClassifier(ccp_alpha=0.01, random_state=42)"
      ]
     },
     "execution_count": 52,
     "metadata": {},
     "output_type": "execute_result"
    }
   ],
   "source": [
    "#model pruning\n",
    "pruned_model = DecisionTreeClassifier(ccp_alpha = 0.01, random_state = 42)\n",
    "pruned_model.fit(X_resampled, y_resampled)"
   ]
  },
  {
   "cell_type": "code",
   "execution_count": 53,
   "id": "04bd2301",
   "metadata": {},
   "outputs": [],
   "source": [
    "pruned_pred = pruned_model.predict(X_test)"
   ]
  },
  {
   "cell_type": "code",
   "execution_count": 54,
   "id": "0db21585",
   "metadata": {},
   "outputs": [
    {
     "name": "stdout",
     "output_type": "stream",
     "text": [
      "Accuracy:  0.9064718206360292\n",
      "Recall:  0.13850651723717872\n",
      "Precision: 0.37425938117182356\n",
      "CL Report:               precision    recall  f1-score   support\n",
      "\n",
      "           0       0.92      0.98      0.95     87730\n",
      "           1       0.37      0.14      0.20      8209\n",
      "\n",
      "    accuracy                           0.91     95939\n",
      "   macro avg       0.65      0.56      0.58     95939\n",
      "weighted avg       0.88      0.91      0.89     95939\n",
      "\n"
     ]
    }
   ],
   "source": [
    "#accuracy check\n",
    "\n",
    "print('Accuracy: ', metrics.accuracy_score(y_test, pruned_pred))\n",
    "print('Recall: ', metrics.recall_score(y_test, pruned_pred, zero_division = 1))\n",
    "print(\"Precision:\", metrics.precision_score(y_test, pruned_pred, zero_division = 1))\n",
    "print(\"CL Report:\", metrics.classification_report(y_test, pruned_pred, zero_division = 1))"
   ]
  },
  {
   "cell_type": "code",
   "execution_count": 55,
   "id": "e5be5ccd",
   "metadata": {},
   "outputs": [
    {
     "name": "stdout",
     "output_type": "stream",
     "text": [
      "Confusion Matrix\n",
      "[[85829  1901]\n",
      " [ 7072  1137]]\n"
     ]
    }
   ],
   "source": [
    "print(\"Confusion Matrix\")\n",
    "print(confusion_matrix(y_test, pruned_pred))"
   ]
  },
  {
   "cell_type": "code",
   "execution_count": 56,
   "id": "293eed83",
   "metadata": {},
   "outputs": [],
   "source": [
    "#Hyperparameter tuning using GridSearch\n",
    "param_grid = {\n",
    "    'max_depth': [None, 5, 10, 15],\n",
    "    'min_samples_split': [2, 5,10],\n",
    "    'min_samples_leaf': [1, 2, 4]\n",
    "}"
   ]
  },
  {
   "cell_type": "code",
   "execution_count": 57,
   "id": "5682c9d1",
   "metadata": {},
   "outputs": [],
   "source": [
    "hyper_model = DecisionTreeClassifier(random_state = 42)"
   ]
  },
  {
   "cell_type": "code",
   "execution_count": 58,
   "id": "21fac4fb",
   "metadata": {},
   "outputs": [
    {
     "data": {
      "text/plain": [
       "GridSearchCV(cv=5, estimator=DecisionTreeClassifier(random_state=42),\n",
       "             param_grid={'max_depth': [None, 5, 10, 15],\n",
       "                         'min_samples_leaf': [1, 2, 4],\n",
       "                         'min_samples_split': [2, 5, 10]},\n",
       "             scoring='recall')"
      ]
     },
     "execution_count": 58,
     "metadata": {},
     "output_type": "execute_result"
    }
   ],
   "source": [
    "grid_search = GridSearchCV(hyper_model, param_grid, cv = 5, scoring = 'recall')\n",
    "grid_search.fit(X_train, y_train)"
   ]
  },
  {
   "cell_type": "code",
   "execution_count": 89,
   "id": "6b7b5a12",
   "metadata": {},
   "outputs": [
    {
     "name": "stdout",
     "output_type": "stream",
     "text": [
      "Best hyperparameters: {'max_depth': None, 'min_samples_leaf': 2, 'min_samples_split': 5}\n"
     ]
    }
   ],
   "source": [
    "best_params = grid_search.best_params_\n",
    "print(\"Best hyperparameters:\", best_params)"
   ]
  },
  {
   "cell_type": "code",
   "execution_count": 92,
   "id": "2fc7fec5",
   "metadata": {},
   "outputs": [
    {
     "name": "stdout",
     "output_type": "stream",
     "text": [
      "Best Model Recall: 0.029845291752954074\n"
     ]
    }
   ],
   "source": [
    "best_model = grid_search.best_estimator_\n",
    "best_predictions = best_model.predict(X_test)\n",
    "best_recall = recall_score(y_test, best_predictions)\n",
    "print(\"Best Model Recall:\", best_recall)"
   ]
  },
  {
   "cell_type": "code",
   "execution_count": 66,
   "id": "07452252",
   "metadata": {},
   "outputs": [],
   "source": [
    "#Hyperparameter tuning using Random search\n",
    "param_dist = {\n",
    "    'max_depth': randint(1, 20),\n",
    "    'min_samples_split': randint(2, 20),\n",
    "    'min_samples_leaf': randint(1, 20)\n",
    "}"
   ]
  },
  {
   "cell_type": "code",
   "execution_count": 67,
   "id": "eaae5554",
   "metadata": {},
   "outputs": [],
   "source": [
    "random_model = DecisionTreeClassifier(random_state = 42)"
   ]
  },
  {
   "cell_type": "code",
   "execution_count": 68,
   "id": "e0817e29",
   "metadata": {
    "scrolled": false
   },
   "outputs": [
    {
     "data": {
      "text/plain": [
       "RandomizedSearchCV(cv=5, estimator=DecisionTreeClassifier(random_state=42),\n",
       "                   n_iter=50,\n",
       "                   param_distributions={'max_depth': <scipy.stats._distn_infrastructure.rv_discrete_frozen object at 0x000001E8383B2CD0>,\n",
       "                                        'min_samples_leaf': <scipy.stats._distn_infrastructure.rv_discrete_frozen object at 0x000001E8383B27F0>,\n",
       "                                        'min_samples_split': <scipy.stats._distn_infrastructure.rv_discrete_frozen object at 0x000001E8386580A0>},\n",
       "                   random_state=42, scoring='recall')"
      ]
     },
     "execution_count": 68,
     "metadata": {},
     "output_type": "execute_result"
    }
   ],
   "source": [
    "random_search = RandomizedSearchCV(random_model, param_distributions = param_dist, n_iter = 50, cv = 5, scoring = 'recall', random_state = 42)\n",
    "random_search.fit(X_train, y_train)"
   ]
  },
  {
   "cell_type": "code",
   "execution_count": 69,
   "id": "1774ae85",
   "metadata": {},
   "outputs": [
    {
     "name": "stdout",
     "output_type": "stream",
     "text": [
      "Best hyperparameters: {'max_depth': 14, 'min_samples_leaf': 3, 'min_samples_split': 2}\n"
     ]
    }
   ],
   "source": [
    "best_params = random_search.best_params_\n",
    "print(\"Best hyperparameters:\", best_params)"
   ]
  },
  {
   "cell_type": "code",
   "execution_count": 70,
   "id": "f926aa5a",
   "metadata": {},
   "outputs": [
    {
     "name": "stdout",
     "output_type": "stream",
     "text": [
      "Best Model Recall: 0.03008892678767207\n"
     ]
    }
   ],
   "source": [
    "best_model = random_search.best_estimator_\n",
    "best_predictions = best_model.predict(X_test)\n",
    "best_recall = recall_score(y_test, best_predictions)\n",
    "print(\"Best Model Recall:\", best_recall)"
   ]
  },
  {
   "cell_type": "code",
   "execution_count": 71,
   "id": "79e51c35",
   "metadata": {},
   "outputs": [
    {
     "data": {
      "text/plain": [
       "array([[87439,   291],\n",
       "       [ 7962,   247]], dtype=int64)"
      ]
     },
     "execution_count": 71,
     "metadata": {},
     "output_type": "execute_result"
    }
   ],
   "source": [
    "#confusion matrix\n",
    "cm1 = confusion_matrix(y_test, best_predictions)\n",
    "cm1"
   ]
  },
  {
   "cell_type": "code",
   "execution_count": 72,
   "id": "fe00e473",
   "metadata": {},
   "outputs": [
    {
     "name": "stdout",
     "output_type": "stream",
     "text": [
      "Accuracy:  0.913976589291112\n",
      "Recall:  0.03008892678767207\n",
      "Precision: 0.4591078066914498\n",
      "CL Report:               precision    recall  f1-score   support\n",
      "\n",
      "           0       0.92      1.00      0.95     87730\n",
      "           1       0.46      0.03      0.06      8209\n",
      "\n",
      "    accuracy                           0.91     95939\n",
      "   macro avg       0.69      0.51      0.51     95939\n",
      "weighted avg       0.88      0.91      0.88     95939\n",
      "\n"
     ]
    }
   ],
   "source": [
    "#accuracy check\n",
    "\n",
    "print('Accuracy: ', metrics.accuracy_score(y_test, best_predictions))\n",
    "print('Recall: ', metrics.recall_score(y_test, best_predictions, zero_division = 1))\n",
    "print(\"Precision:\", metrics.precision_score(y_test, best_predictions, zero_division = 1))\n",
    "print(\"CL Report:\", metrics.classification_report(y_test, best_predictions, zero_division = 1))"
   ]
  },
  {
   "cell_type": "code",
   "execution_count": 73,
   "id": "63b9f336",
   "metadata": {},
   "outputs": [
    {
     "data": {
      "image/png": "[encoded data removed]",
      "text/plain": [
       "<Figure size 800x600 with 1 Axes>"
      ]
     },
     "metadata": {},
     "output_type": "display_data"
    }
   ],
   "source": [
    "plt.figure(figsize = (8, 6))\n",
    "sns.heatmap(cm1, annot = True, fmt = 'd', cmap = 'Reds', cbar = False)\n",
    "plt.xlabel('Predicted')\n",
    "plt.ylabel('True')\n",
    "plt.title('Confusion Matrix')\n",
    "plt.show()"
   ]
  },
  {
   "cell_type": "code",
   "execution_count": null,
   "id": "ef9a680e",
   "metadata": {},
   "outputs": [],
   "source": []
  }
 ],
 "metadata": {
  "kernelspec": {
   "display_name": "Python 3 (ipykernel)",
   "language": "python",
   "name": "python3"
  },
  "language_info": {
   "codemirror_mode": {
    "name": "ipython",
    "version": 3
   },
   "file_extension": ".py",
   "mimetype": "text/x-python",
   "name": "python",
   "nbconvert_exporter": "python",
   "pygments_lexer": "ipython3",
   "version": "3.9.13"
  }
 },
 "nbformat": 4,
 "nbformat_minor": 5
}
